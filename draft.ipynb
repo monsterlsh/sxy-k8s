{
 "cells": [
  {
   "cell_type": "code",
   "execution_count": 1,
   "metadata": {},
   "outputs": [],
   "source": [
    "import os"
   ]
  },
  {
   "cell_type": "code",
   "execution_count": 3,
   "metadata": {},
   "outputs": [
    {
     "name": "stdout",
     "output_type": "stream",
     "text": [
      "algo\n",
      "callname call\n"
     ]
    }
   ],
   "source": [
    "from abc import ABC,abstractmethod\n",
    "class A(ABC):\n",
    "    @abstractmethod\n",
    "    def __call__(self, *args):\n",
    "        pass\n",
    "class B(A):\n",
    "    def __call__(self,node):\n",
    "        print(node)\n",
    "class Main():\n",
    "    def __init__(self,algo):\n",
    "        self.algo = algo\n",
    "    def __call__(self,callname):\n",
    "        print(self.algo)\n",
    "        print(\"callname\",callname)\n",
    "\n",
    "a = Main(\"algo\")\n",
    "a(\"call\")"
   ]
  },
  {
   "cell_type": "code",
   "execution_count": 1,
   "metadata": {},
   "outputs": [
    {
     "name": "stdout",
     "output_type": "stream",
     "text": [
      "<class 'numpy.ndarray'>\n"
     ]
    }
   ],
   "source": [
    "import numpy as np\n",
    "a = np.array([1,2,3])\n",
    "print(type(a))"
   ]
  },
  {
   "cell_type": "code",
   "execution_count": 1,
   "metadata": {},
   "outputs": [
    {
     "name": "stdout",
     "output_type": "stream",
     "text": [
      "3\n"
     ]
    }
   ],
   "source": [
    "if True:\n",
    "    a =3\n",
    "print(a)\n"
   ]
  }
 ],
 "metadata": {
  "kernelspec": {
   "display_name": "Python 3.8.6 ('ecnu')",
   "language": "python",
   "name": "python3"
  },
  "language_info": {
   "codemirror_mode": {
    "name": "ipython",
    "version": 3
   },
   "file_extension": ".py",
   "mimetype": "text/x-python",
   "name": "python",
   "nbconvert_exporter": "python",
   "pygments_lexer": "ipython3",
   "version": "3.8.6"
  },
  "orig_nbformat": 4,
  "vscode": {
   "interpreter": {
    "hash": "0191520cf8abadf4eef4c3fc87abd560ba35e3a47a45b8105c72a01115e7f0c6"
   }
  }
 },
 "nbformat": 4,
 "nbformat_minor": 2
}
