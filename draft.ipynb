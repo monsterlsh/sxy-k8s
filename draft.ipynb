{
 "cells": [
  {
   "cell_type": "code",
   "execution_count": 1,
   "metadata": {},
   "outputs": [],
   "source": [
    "import os"
   ]
  },
  {
   "cell_type": "code",
   "execution_count": 3,
   "metadata": {},
   "outputs": [
    {
     "name": "stdout",
     "output_type": "stream",
     "text": [
      "algo\n",
      "callname call\n"
     ]
    }
   ],
   "source": [
    "from abc import ABC,abstractmethod\n",
    "class A(ABC):\n",
    "    @abstractmethod\n",
    "    def __call__(self, *args):\n",
    "        pass\n",
    "class B(A):\n",
    "    def __call__(self,node):\n",
    "        print(node)\n",
    "class Main():\n",
    "    def __init__(self,algo):\n",
    "        self.algo = algo\n",
    "    def __call__(self,callname):\n",
    "        print(self.algo)\n",
    "        print(\"callname\",callname)\n",
    "\n",
    "a = Main(\"algo\")\n",
    "a(\"call\")"
   ]
  },
  {
   "cell_type": "code",
   "execution_count": 1,
   "metadata": {},
   "outputs": [
    {
     "name": "stdout",
     "output_type": "stream",
     "text": [
      "<class 'numpy.ndarray'>\n"
     ]
    }
   ],
   "source": [
    "import numpy as np\n",
    "a = np.array([1,2,3])\n",
    "print(type(a))"
   ]
  },
  {
   "cell_type": "code",
   "execution_count": 3,
   "metadata": {},
   "outputs": [
    {
     "name": "stdout",
     "output_type": "stream",
     "text": [
      "Performing stepwise search to minimize aic\n",
      " ARIMA(0,0,0)(0,0,0)[0]             : AIC=65.403, Time=0.02 sec\n",
      " ARIMA(1,0,0)(0,0,0)[0]             : AIC=61.190, Time=0.02 sec\n",
      " ARIMA(0,0,1)(0,0,0)[0]             : AIC=64.661, Time=0.06 sec\n",
      " ARIMA(2,0,0)(0,0,0)[0]             : AIC=61.229, Time=0.03 sec\n",
      " ARIMA(1,0,1)(0,0,0)[0]             : AIC=inf, Time=0.15 sec\n",
      " ARIMA(2,0,1)(0,0,0)[0]             : AIC=60.813, Time=0.12 sec\n",
      " ARIMA(2,0,2)(0,0,0)[0]             : AIC=inf, Time=0.30 sec\n",
      " ARIMA(1,0,2)(0,0,0)[0]             : AIC=inf, Time=0.30 sec\n",
      " ARIMA(2,0,1)(0,0,0)[0] intercept   : AIC=inf, Time=0.22 sec\n",
      "\n",
      "Best model:  ARIMA(2,0,1)(0,0,0)[0]          \n",
      "Total fit time: 1.242 seconds\n",
      "<class 'numpy.ndarray'> [21.945840005100468, 20.97337948398173, 21.459237902015012]\n",
      "[21.945840005100468, 20.97337948398173, 21.459237902015012, 0]\n"
     ]
    }
   ],
   "source": [
    "from statsmodels.tsa.arima_model import ARIMA\n",
    "import pmdarima as pm       \n",
    "train = [10,23,33,10,30,20,20]\n",
    "model = pm.auto_arima(train, start_p=0, start_q=0,\n",
    "                      information_criterion='aic',\n",
    "                      test='adf',       # use adftest to find optimal 'd'\n",
    "                      max_p=3, max_q=3, # maximum p and q\n",
    "                      m=1,              # frequency of series\n",
    "                      d=None,           # let model determine 'd'\n",
    "                      seasonal=False,   # No Seasonality\n",
    "                      start_P=0,\n",
    "                      D=0,\n",
    "                      trace=True,\n",
    "                      error_action='ignore', \n",
    "                      suppress_warnings=True,\n",
    "                      stepwise=True)\n",
    "v = model.predict(n_periods=3)\n",
    "vlist = v.tolist()\n",
    "print(type(v),vlist)\n",
    "vlist  += [0]\n",
    "print(vlist)\n",
    "\n"
   ]
  }
 ],
 "metadata": {
  "kernelspec": {
   "display_name": "Python 3.6.8 64-bit",
   "language": "python",
   "name": "python3"
  },
  "language_info": {
   "codemirror_mode": {
    "name": "ipython",
    "version": 3
   },
   "file_extension": ".py",
   "mimetype": "text/x-python",
   "name": "python",
   "nbconvert_exporter": "python",
   "pygments_lexer": "ipython3",
   "version": "3.10.4"
  },
  "orig_nbformat": 4,
  "vscode": {
   "interpreter": {
    "hash": "31f2aee4e71d21fbe5cf8b01ff0e069b9275f58929596ceb00d14d90e3e16cd6"
   }
  }
 },
 "nbformat": 4,
 "nbformat_minor": 2
}
